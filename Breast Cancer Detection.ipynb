{
  "cells": [
    {
      "cell_type": "markdown",
      "metadata": {
        "id": "EElcvsCt2kmZ"
      },
      "source": [
        "# Breast cancer detection project"
      ]
    },
    {
      "cell_type": "markdown",
      "metadata": {
        "id": "gbzNnMLL26xY"
      },
      "source": [
        "# I. Gathering Data"
      ]
    },
    {
      "cell_type": "code",
      "execution_count": null,
      "metadata": {
        "id": "J87yLjL62jky"
      },
      "outputs": [],
      "source": [
        "# IMPORTS\n",
        "import kagglehub\n",
        "import numpy as np\n",
        "import tensorflow as tf\n",
        "import random\n",
        "import glob\n",
        "import matplotlib.pyplot as plt\n",
        "import os\n",
        "import sklearn\n",
        "from sklearn.model_selection import train_test_split"
      ]
    },
    {
      "cell_type": "code",
      "execution_count": null,
      "metadata": {
        "colab": {
          "base_uri": "https://localhost:8080/"
        },
        "id": "FtNB8-dH2sfa",
        "outputId": "5bd18854-0091-44ea-c02d-0467826f0b80"
      },
      "outputs": [
        {
          "output_type": "stream",
          "name": "stdout",
          "text": [
            "Downloading from https://www.kaggle.com/api/v1/datasets/download/paultimothymooney/breast-histopathology-images?dataset_version_number=1...\n"
          ]
        },
        {
          "output_type": "stream",
          "name": "stderr",
          "text": [
            "100%|██████████| 3.10G/3.10G [00:29<00:00, 112MB/s]"
          ]
        },
        {
          "output_type": "stream",
          "name": "stdout",
          "text": [
            "Extracting files...\n"
          ]
        },
        {
          "output_type": "stream",
          "name": "stderr",
          "text": [
            "\n"
          ]
        },
        {
          "output_type": "stream",
          "name": "stdout",
          "text": [
            "Path to dataset files: /root/.cache/kagglehub/datasets/paultimothymooney/breast-histopathology-images/versions/1\n"
          ]
        }
      ],
      "source": [
        "import kagglehub\n",
        "\n",
        "# Download latest version\n",
        "path = kagglehub.dataset_download(\"paultimothymooney/breast-histopathology-images\")\n",
        "\n",
        "print(\"Path to dataset files:\", path)"
      ]
    },
    {
      "cell_type": "code",
      "execution_count": null,
      "metadata": {
        "id": "vknJzb2Z2596",
        "colab": {
          "base_uri": "https://localhost:8080/"
        },
        "outputId": "cc1eb537-a449-4254-abf1-2ad147b319f6"
      },
      "outputs": [
        {
          "output_type": "stream",
          "name": "stdout",
          "text": [
            "/root/.cache/kagglehub/datasets/paultimothymooney/breast-histopathology-images/versions/1\n"
          ]
        }
      ],
      "source": [
        "import os\n",
        "\n",
        "dataPath = os.path.join(os.path.expanduser(\"~\"), \".cache/kagglehub/datasets/paultimothymooney/breast-histopathology-images/versions/1\")\n",
        "print(dataPath)"
      ]
    },
    {
      "cell_type": "markdown",
      "metadata": {
        "id": "gVLL1vUN3COR"
      },
      "source": [
        "## II. Data Handling"
      ]
    },
    {
      "cell_type": "code",
      "execution_count": null,
      "metadata": {
        "id": "XH_aTDzs3DVk",
        "colab": {
          "base_uri": "https://localhost:8080/"
        },
        "outputId": "e8a29977-c195-4e66-f323-0be9c4dbe274"
      },
      "outputs": [
        {
          "output_type": "stream",
          "name": "stdout",
          "text": [
            "Number of IDC negative patches:  198738\n",
            "Number of IDC positive patches:  78786\n",
            "Total number of patches:  277524\n"
          ]
        }
      ],
      "source": [
        "# Get all the paths to the images\n",
        "# -> glob allows for pattern matching to get all the photo paths\n",
        "idc_neg = glob.glob(dataPath +'/*/0/*.png', recursive = True)\n",
        "idc_pos = glob.glob(dataPath +'/*/1/*.png', recursive = True)\n",
        "\n",
        "# Total : 277,524 patches of size 50 x 50 (198,738 IDC negative and 78,786 IDC positive)\n",
        "print(\"Number of IDC negative patches: \", len(idc_neg))\n",
        "print(\"Number of IDC positive patches: \", len(idc_pos))\n",
        "print(\"Total number of patches: \", len(idc_neg) + len(idc_pos))"
      ]
    },
    {
      "cell_type": "code",
      "execution_count": null,
      "metadata": {
        "id": "n67lfzQE3GgE",
        "colab": {
          "base_uri": "https://localhost:8080/"
        },
        "outputId": "0bef1cd9-a6e2-4444-c9bf-33ddde16866a"
      },
      "outputs": [
        {
          "output_type": "stream",
          "name": "stdout",
          "text": [
            "Shape of the tensor:  (50, 50, 3)\n"
          ]
        }
      ],
      "source": [
        "# Function to convert the image to a tensor\n",
        "import cv2\n",
        "\n",
        "def image_to_numpy(image_path, target_size=(50, 50)):\n",
        "    # Load the image in BGR format\n",
        "    img = cv2.imread(image_path, cv2.IMREAD_COLOR)\n",
        "    if img is None:\n",
        "        raise ValueError(f\"Image not found or unable to load: {image_path}\")\n",
        "\n",
        "    # Convert BGR to RGB\n",
        "    img_rgb = cv2.cvtColor(img, cv2.COLOR_BGR2RGB)\n",
        "\n",
        "    # Resize the image to the target size\n",
        "    img_resized = cv2.resize(img_rgb, target_size, interpolation=cv2.INTER_AREA)\n",
        "\n",
        "    return img_resized / 255\n",
        "\n",
        "# Example usage\n",
        "example_image_path = '/8863/0/8863_idx5_x51_y1251_class0.png'\n",
        "example_tensor = image_to_numpy(dataPath + example_image_path)\n",
        "print(\"Shape of the tensor: \", example_tensor.shape)"
      ]
    },
    {
      "cell_type": "code",
      "execution_count": null,
      "metadata": {
        "id": "tg-JS1sM3H7C",
        "colab": {
          "base_uri": "https://localhost:8080/",
          "height": 432
        },
        "outputId": "5218a9a7-922d-417e-ed5a-b18ec03994c4"
      },
      "outputs": [
        {
          "output_type": "display_data",
          "data": {
            "text/plain": [
              "<Figure size 640x480 with 1 Axes>"
            ],
            "image/png": "[encoded data removed]"
          },
          "metadata": {}
        }
      ],
      "source": [
        "# Function to plot the image\n",
        "def plot_image(image_path):\n",
        "    img = cv2.imread(image_path)\n",
        "    img_rgb = cv2.cvtColor(img, cv2.COLOR_BGR2RGB)\n",
        "    plt.imshow(img_rgb)\n",
        "\n",
        "# Example usage\n",
        "plot_image(idc_neg[0])\n",
        "\n"
      ]
    },
    {
      "cell_type": "markdown",
      "metadata": {
        "id": "ojsmdcnB7vRP"
      },
      "source": [
        "## III. Data analysis & Data Preparation"
      ]
    },
    {
      "cell_type": "code",
      "execution_count": null,
      "metadata": {
        "id": "4s-D9ar7GQ34",
        "colab": {
          "base_uri": "https://localhost:8080/"
        },
        "outputId": "4fc549e6-3ac3-4af9-a574-7fbc4157f2f4"
      },
      "outputs": [
        {
          "output_type": "stream",
          "name": "stdout",
          "text": [
            "(24000, 50, 50, 3)\n",
            "(24000,)\n",
            "\n",
            "(19200, 50, 50, 3)\n",
            "(19200,)\n",
            "(4800, 50, 50, 3)\n",
            "(4800,)\n"
          ]
        }
      ],
      "source": [
        "# Get 12000 random idc negative image and convert to numpy arrays\n",
        "idc_neg_numpy = []\n",
        "\n",
        "for i in random.sample(range(0, len(idc_neg)), 12000):\n",
        "    idc_neg_numpy.append(image_to_numpy(idc_neg[i]))\n",
        "\n",
        "# Get 12000 random idc positive image and convert to numpy arrays\n",
        "idc_pos_numpy = []\n",
        "\n",
        "for i in random.sample(range(0, len(idc_pos)), 12000):\n",
        "    idc_pos_numpy.append(image_to_numpy(idc_pos[i]))\n",
        "\n",
        "# We combine the negative and positive data and create a y lable numpy array.\n",
        "X = np.array(idc_neg_numpy + idc_pos_numpy)\n",
        "y = np.array([0] * len(idc_neg_numpy) + [1] * len(idc_pos_numpy))\n",
        "print(X.shape)\n",
        "print(y.shape)\n",
        "print()\n",
        "\n",
        "# get X train, X test, y train, y test with sklearn.model_selection's train_test_split\n",
        "# test split is 20%\n",
        "X_train, X_test, y_train, y_test = train_test_split(X, y, test_size=0.2, random_state=42)\n",
        "print(X_train.shape)\n",
        "print(y_train.shape)\n",
        "print(X_test.shape)\n",
        "print(y_test.shape)\n"
      ]
    },
    {
      "cell_type": "markdown",
      "metadata": {
        "id": "rk5PoyUu3UtB"
      },
      "source": [
        "## IV. Model Building"
      ]
    },
    {
      "cell_type": "markdown",
      "source": [
        "#### Model 1"
      ],
      "metadata": {
        "id": "P5z0QXfhMkoG"
      }
    },
    {
      "cell_type": "code",
      "execution_count": null,
      "metadata": {
        "id": "a9G1f76r3UKM"
      },
      "outputs": [],
      "source": [
        "from keras.models import Sequential\n",
        "from keras.layers import Dense, Conv2D, MaxPooling2D, Dropout, Flatten\n",
        "from keras.optimizers import SGD, Adam\n",
        "from keras.callbacks import EarlyStopping, ModelCheckpoint"
      ]
    },
    {
      "cell_type": "code",
      "source": [],
      "metadata": {
        "id": "u4SGstoMb7Jx"
      },
      "execution_count": null,
      "outputs": []
    },
    {
      "cell_type": "code",
      "execution_count": null,
      "metadata": {
        "id": "kruo991U3XR2",
        "colab": {
          "base_uri": "https://localhost:8080/"
        },
        "outputId": "ebc5b8f0-3226-4fda-fb02-5ac44d3d4937"
      },
      "outputs": [
        {
          "output_type": "stream",
          "name": "stderr",
          "text": [
            "/usr/local/lib/python3.10/dist-packages/keras/src/layers/convolutional/base_conv.py:107: UserWarning: Do not pass an `input_shape`/`input_dim` argument to a layer. When using Sequential models, prefer using an `Input(shape)` object as the first layer in the model instead.\n",
            "  super().__init__(activity_regularizer=activity_regularizer, **kwargs)\n"
          ]
        }
      ],
      "source": [
        "#Initialize the Sequential model:\n",
        "model1 = Sequential()\n",
        "\n",
        "model1.add(Conv2D(32, (5, 5), strides=(1, 1), input_shape=(50, 50, 3), activation='relu', data_format=\"channels_last\"))\n",
        "model1.add(Conv2D(64, (5, 5), activation='relu'))\n",
        "model1.add(MaxPooling2D(pool_size=(2, 2), strides=(2, 2)))\n",
        "model1.add(Flatten())\n",
        "model1.add(Dense(1, activation='sigmoid'))\n",
        "\n",
        "#Compiling the model, loss: categorical crossentropy, it is the most popular for these kind of problems,\n",
        "#optimizer: adam, a faster variant of the stochastic gradient method\n",
        "#metrics: accuracy (We want to know the accuracy after each epoch.)\n",
        "model1.compile(loss='binary_crossentropy', optimizer='adam', metrics=['accuracy'])\n"
      ]
    },
    {
      "cell_type": "code",
      "execution_count": null,
      "metadata": {
        "colab": {
          "base_uri": "https://localhost:8080/"
        },
        "id": "7T9ukOfIDhkt",
        "outputId": "da4002b0-23a9-409a-e2d1-62b0401e309b"
      },
      "outputs": [
        {
          "output_type": "stream",
          "name": "stdout",
          "text": [
            "Epoch 1/10\n",
            "\u001b[1m118/120\u001b[0m \u001b[32m━━━━━━━━━━━━━━━━━━━\u001b[0m\u001b[37m━\u001b[0m \u001b[1m0s\u001b[0m 22ms/step - accuracy: 0.5871 - loss: 0.6831\n",
            "Epoch 1: val_loss improved from inf to 0.49170, saving model to weights1.keras\n",
            "\u001b[1m120/120\u001b[0m \u001b[32m━━━━━━━━━━━━━━━━━━━━\u001b[0m\u001b[37m\u001b[0m \u001b[1m5s\u001b[0m 29ms/step - accuracy: 0.5892 - loss: 0.6811 - val_accuracy: 0.7898 - val_loss: 0.4917\n",
            "Epoch 2/10\n",
            "\u001b[1m118/120\u001b[0m \u001b[32m━━━━━━━━━━━━━━━━━━━\u001b[0m\u001b[37m━\u001b[0m \u001b[1m0s\u001b[0m 21ms/step - accuracy: 0.7855 - loss: 0.4922\n",
            "Epoch 2: val_loss improved from 0.49170 to 0.48806, saving model to weights1.keras\n",
            "\u001b[1m120/120\u001b[0m \u001b[32m━━━━━━━━━━━━━━━━━━━━\u001b[0m\u001b[37m\u001b[0m \u001b[1m3s\u001b[0m 23ms/step - accuracy: 0.7852 - loss: 0.4925 - val_accuracy: 0.7990 - val_loss: 0.4881\n",
            "Epoch 3/10\n",
            "\u001b[1m118/120\u001b[0m \u001b[32m━━━━━━━━━━━━━━━━━━━\u001b[0m\u001b[37m━\u001b[0m \u001b[1m0s\u001b[0m 22ms/step - accuracy: 0.7831 - loss: 0.4833\n",
            "Epoch 3: val_loss improved from 0.48806 to 0.48614, saving model to weights1.keras\n",
            "\u001b[1m120/120\u001b[0m \u001b[32m━━━━━━━━━━━━━━━━━━━━\u001b[0m\u001b[37m\u001b[0m \u001b[1m3s\u001b[0m 24ms/step - accuracy: 0.7831 - loss: 0.4833 - val_accuracy: 0.7685 - val_loss: 0.4861\n",
            "Epoch 4/10\n",
            "\u001b[1m120/120\u001b[0m \u001b[32m━━━━━━━━━━━━━━━━━━━━\u001b[0m\u001b[37m\u001b[0m \u001b[1m0s\u001b[0m 22ms/step - accuracy: 0.7512 - loss: 0.5504\n",
            "Epoch 4: val_loss did not improve from 0.48614\n",
            "\u001b[1m120/120\u001b[0m \u001b[32m━━━━━━━━━━━━━━━━━━━━\u001b[0m\u001b[37m\u001b[0m \u001b[1m5s\u001b[0m 25ms/step - accuracy: 0.7511 - loss: 0.5505 - val_accuracy: 0.7792 - val_loss: 0.4994\n",
            "Epoch 5/10\n",
            "\u001b[1m118/120\u001b[0m \u001b[32m━━━━━━━━━━━━━━━━━━━\u001b[0m\u001b[37m━\u001b[0m \u001b[1m0s\u001b[0m 22ms/step - accuracy: 0.7601 - loss: 0.5186\n",
            "Epoch 5: val_loss did not improve from 0.48614\n",
            "\u001b[1m120/120\u001b[0m \u001b[32m━━━━━━━━━━━━━━━━━━━━\u001b[0m\u001b[37m\u001b[0m \u001b[1m3s\u001b[0m 25ms/step - accuracy: 0.7601 - loss: 0.5184 - val_accuracy: 0.7721 - val_loss: 0.5095\n",
            "Epoch 6/10\n",
            "\u001b[1m120/120\u001b[0m \u001b[32m━━━━━━━━━━━━━━━━━━━━\u001b[0m\u001b[37m\u001b[0m \u001b[1m0s\u001b[0m 22ms/step - accuracy: 0.7768 - loss: 0.4885\n",
            "Epoch 6: val_loss did not improve from 0.48614\n",
            "\u001b[1m120/120\u001b[0m \u001b[32m━━━━━━━━━━━━━━━━━━━━\u001b[0m\u001b[37m\u001b[0m \u001b[1m3s\u001b[0m 24ms/step - accuracy: 0.7768 - loss: 0.4885 - val_accuracy: 0.7719 - val_loss: 0.5161\n",
            "Epoch 7/10\n",
            "\u001b[1m119/120\u001b[0m \u001b[32m━━━━━━━━━━━━━━━━━━━\u001b[0m\u001b[37m━\u001b[0m \u001b[1m0s\u001b[0m 23ms/step - accuracy: 0.7717 - loss: 0.5025\n",
            "Epoch 7: val_loss improved from 0.48614 to 0.45767, saving model to weights1.keras\n",
            "\u001b[1m120/120\u001b[0m \u001b[32m━━━━━━━━━━━━━━━━━━━━\u001b[0m\u001b[37m\u001b[0m \u001b[1m5s\u001b[0m 26ms/step - accuracy: 0.7718 - loss: 0.5022 - val_accuracy: 0.7995 - val_loss: 0.4577\n",
            "Epoch 8/10\n",
            "\u001b[1m118/120\u001b[0m \u001b[32m━━━━━━━━━━━━━━━━━━━\u001b[0m\u001b[37m━\u001b[0m \u001b[1m0s\u001b[0m 22ms/step - accuracy: 0.7838 - loss: 0.4708\n",
            "Epoch 8: val_loss did not improve from 0.45767\n",
            "\u001b[1m120/120\u001b[0m \u001b[32m━━━━━━━━━━━━━━━━━━━━\u001b[0m\u001b[37m\u001b[0m \u001b[1m3s\u001b[0m 24ms/step - accuracy: 0.7839 - loss: 0.4706 - val_accuracy: 0.7865 - val_loss: 0.4682\n",
            "Epoch 9/10\n",
            "\u001b[1m118/120\u001b[0m \u001b[32m━━━━━━━━━━━━━━━━━━━\u001b[0m\u001b[37m━\u001b[0m \u001b[1m0s\u001b[0m 22ms/step - accuracy: 0.7959 - loss: 0.4565\n",
            "Epoch 9: val_loss improved from 0.45767 to 0.44968, saving model to weights1.keras\n",
            "\u001b[1m120/120\u001b[0m \u001b[32m━━━━━━━━━━━━━━━━━━━━\u001b[0m\u001b[37m\u001b[0m \u001b[1m3s\u001b[0m 24ms/step - accuracy: 0.7959 - loss: 0.4565 - val_accuracy: 0.8003 - val_loss: 0.4497\n",
            "Epoch 10/10\n",
            "\u001b[1m120/120\u001b[0m \u001b[32m━━━━━━━━━━━━━━━━━━━━\u001b[0m\u001b[37m\u001b[0m \u001b[1m0s\u001b[0m 24ms/step - accuracy: 0.8003 - loss: 0.4463\n",
            "Epoch 10: val_loss did not improve from 0.44968\n",
            "\u001b[1m120/120\u001b[0m \u001b[32m━━━━━━━━━━━━━━━━━━━━\u001b[0m\u001b[37m\u001b[0m \u001b[1m5s\u001b[0m 27ms/step - accuracy: 0.8003 - loss: 0.4464 - val_accuracy: 0.7411 - val_loss: 0.5244\n"
          ]
        }
      ],
      "source": [
        "#We want to stop the training process, if the loss on the validation set did not improve since 10 epochs.\n",
        "early_stopping=EarlyStopping(patience=10, verbose=1)\n",
        "\n",
        "#We do not want to store the weights of the model after the last epoch, we want the weights of the best model!\n",
        "#We will store those weights in a file weights.hdf5\n",
        "checkpointer=ModelCheckpoint(filepath='weights1.keras', save_best_only=True, verbose=1)\n",
        "\n",
        "#Fit with 10 epochs of 128 records each (batch_size) and 0.2 validation split\n",
        "#Specify which callbacks or 'plugins' to use.\n",
        "network_history = model1.fit(X_train, y_train, batch_size=128,\n",
        "                            epochs=10, verbose=1, validation_split=0.2,\n",
        "                  callbacks=[checkpointer, early_stopping])"
      ]
    },
    {
      "cell_type": "code",
      "execution_count": null,
      "metadata": {
        "colab": {
          "base_uri": "https://localhost:8080/"
        },
        "id": "EV5D-MGmF7Qr",
        "outputId": "2c23df76-9f9e-4903-9518-964adf4bd09e"
      },
      "outputs": [
        {
          "output_type": "stream",
          "name": "stdout",
          "text": [
            "\u001b[1m150/150\u001b[0m \u001b[32m━━━━━━━━━━━━━━━━━━━━\u001b[0m\u001b[37m\u001b[0m \u001b[1m1s\u001b[0m 4ms/step - accuracy: 0.8001 - loss: 0.4494\n",
            "Loss on test set: 0.45716461539268494 Accuracy on test set: 0.7945833206176758\n"
          ]
        }
      ],
      "source": [
        "from keras.models import load_model\n",
        "model1 = load_model(\"weights1.keras\")\n",
        "test_err = model1.evaluate(X_test,y_test)\n",
        "print(\"Loss on test set:\", test_err[0], \"Accuracy on test set:\", test_err[1])"
      ]
    },
    {
      "cell_type": "code",
      "execution_count": null,
      "metadata": {
        "id": "BgbjghI9F91_",
        "colab": {
          "base_uri": "https://localhost:8080/"
        },
        "outputId": "65a0ce30-caf7-4106-e9f9-09c3a7bfc183"
      },
      "outputs": [
        {
          "output_type": "stream",
          "name": "stdout",
          "text": [
            "\u001b[1m150/150\u001b[0m \u001b[32m━━━━━━━━━━━━━━━━━━━━\u001b[0m\u001b[37m\u001b[0m \u001b[1m0s\u001b[0m 2ms/step\n",
            "[0.28209376]\n",
            "\u001b[1m150/150\u001b[0m \u001b[32m━━━━━━━━━━━━━━━━━━━━\u001b[0m\u001b[37m\u001b[0m \u001b[1m0s\u001b[0m 2ms/step\n",
            "[0]\n",
            "0\n",
            "Test accuracy: 0.794583\n",
            "Precision 0.7946065601520893\n",
            "Recall 0.7945991948845114\n",
            "f1_score 0.7945830123692902\n",
            "\n",
            " Confusion matrix \n",
            "[[1910  481]\n",
            " [ 505 1904]]\n"
          ]
        }
      ],
      "source": [
        "from sklearn.metrics import accuracy_score, precision_score, recall_score, f1_score, roc_curve, confusion_matrix\n",
        "\n",
        "y_pred = model1.predict(X_test)\n",
        "print(y_pred[0])\n",
        "y_pred = model1.predict(X_test) > 0.5\n",
        "y_pred = y_pred.astype(int)\n",
        "print(y_pred[0])\n",
        "y_true = y_test\n",
        "print(y_true[0])\n",
        "\n",
        "print(\"Test accuracy: %g\" %(accuracy_score(y_true, y_pred)))\n",
        "print(\"Precision\", precision_score(y_true, y_pred, average=\"macro\")) #one vs rest averages or global\n",
        "print(\"Recall\", recall_score(y_true, y_pred, average=\"macro\")) #macro calculates the average of the recall for each class\n",
        "print(\"f1_score\", f1_score(y_true, y_pred, average=\"macro\")) #macro is good for balanced data set, micro is good for imbalanced\n",
        "print(\"\\n Confusion matrix \")\n",
        "conf=confusion_matrix(y_true, y_pred)\n",
        "print(conf)"
      ]
    },
    {
      "cell_type": "markdown",
      "source": [
        "### Model 2"
      ],
      "metadata": {
        "id": "28Le1iCgL4It"
      }
    },
    {
      "cell_type": "code",
      "source": [
        "from keras.models import Sequential\n",
        "from keras.layers import Conv2D, MaxPooling2D, GlobalAveragePooling2D, Dense, Dropout\n",
        "from keras.regularizers import l2\n",
        "from keras.callbacks import EarlyStopping, ModelCheckpoint\n",
        "\n",
        "model2 = Sequential()\n",
        "\n",
        "# First Conv Block\n",
        "model2.add(Conv2D(32, (3, 3), activation='relu', input_shape=(50, 50, 3)))\n",
        "model2.add(MaxPooling2D(pool_size=(2, 2)))\n",
        "model2.add(Dropout(0.2))\n",
        "\n",
        "# Second Conv Block\n",
        "model2.add(Conv2D(64, (3, 3), activation='relu', padding='same'))\n",
        "model2.add(Dropout(0.2))\n",
        "\n",
        "# Third Conv Block\n",
        "model2.add(Conv2D(128, (3, 3), activation='relu', padding='same'))\n",
        "model2.add(MaxPooling2D(pool_size=(2, 2)))\n",
        "model2.add(Dropout(0.2))\n",
        "\n",
        "model2.add(Conv2D(128, (3, 3), activation='relu', padding='same'))\n",
        "model2.add(Dropout(0.2))\n",
        "\n",
        "model2.add(Conv2D(128, (3, 3), activation='relu', padding='same'))\n",
        "model2.add(MaxPooling2D(pool_size=(2, 2)))\n",
        "model2.add(Dropout(0.2))\n",
        "\n",
        "model2.add(Conv2D(128, (3, 3), activation='relu', padding='same'))\n",
        "model2.add(Dropout(0.2))\n",
        "\n",
        "model2.add(Conv2D(128, (3, 3), activation='relu', padding='same'))\n",
        "model2.add(MaxPooling2D(pool_size=(2, 2)))\n",
        "model2.add(Dropout(0.2))\n",
        "\n",
        "model2.add(Conv2D(128, (3, 3), activation='relu', padding='same'))\n",
        "model2.add(MaxPooling2D(pool_size=(2, 2)))\n",
        "model2.add(Dropout(0.2))\n",
        "\n",
        "# Global Average Pooling + Fully Connected\n",
        "model2.add(GlobalAveragePooling2D())\n",
        "model2.add(Dense(128, activation='relu', kernel_regularizer=l2(0.01)))\n",
        "model2.add(Dropout(0.5))\n",
        "model2.add(Dense(1, activation='sigmoid'))\n",
        "\n",
        "# Compile the model\n",
        "model2.compile(optimizer='adam', loss='binary_crossentropy', metrics=['accuracy', 'Precision', 'Recall'])\n",
        "\n",
        "# Callbacks\n",
        "early_stopping = EarlyStopping(patience=15, verbose=1)\n",
        "checkpointer = ModelCheckpoint(filepath='weights2.keras', save_best_only=True, verbose=1)\n",
        "\n",
        "# Fit the model\n",
        "network_history = model2.fit(\n",
        "    X_train, y_train,\n",
        "    batch_size=128, epochs=40, verbose=1, validation_split=0.2,\n",
        "    callbacks=[checkpointer, early_stopping]\n",
        ")\n",
        "\n",
        "# Load the best model and evaluate\n",
        "from keras.models import load_model\n",
        "model2 = load_model(\"weights2.keras\")\n",
        "test_err = model2.evaluate(X_test, y_test)\n",
        "print(\"Loss on test set:\", test_err[0], \"Accuracy on test set:\", test_err[1])\n",
        "\n",
        "# Metrics Evaluation\n",
        "from sklearn.metrics import accuracy_score, precision_score, recall_score, f1_score, confusion_matrix\n",
        "\n",
        "y_pred = model2.predict(X_test)\n",
        "y_pred = (y_pred > 0.5).astype(int)\n",
        "y_true = y_test\n",
        "\n",
        "print(\"Test accuracy: %g\" % (accuracy_score(y_true, y_pred)))\n",
        "print(\"Precision:\", precision_score(y_true, y_pred, average=\"macro\"))\n",
        "print(\"Recall:\", recall_score(y_true, y_pred, average=\"macro\"))\n",
        "print(\"f1_score:\", f1_score(y_true, y_pred, average=\"macro\"))\n",
        "\n",
        "print(\"\\nConfusion matrix:\")\n",
        "conf = confusion_matrix(y_true, y_pred)\n",
        "print(conf)\n"
      ],
      "metadata": {
        "id": "DksyXInPOqIl",
        "colab": {
          "base_uri": "https://localhost:8080/"
        },
        "outputId": "aff2cdc6-dc5b-4c0f-97d0-751a653df61d"
      },
      "execution_count": null,
      "outputs": [
        {
          "output_type": "stream",
          "name": "stderr",
          "text": [
            "/usr/local/lib/python3.10/dist-packages/keras/src/layers/convolutional/base_conv.py:107: UserWarning: Do not pass an `input_shape`/`input_dim` argument to a layer. When using Sequential models, prefer using an `Input(shape)` object as the first layer in the model instead.\n",
            "  super().__init__(activity_regularizer=activity_regularizer, **kwargs)\n"
          ]
        },
        {
          "output_type": "stream",
          "name": "stdout",
          "text": [
            "Epoch 1/10\n",
            "\u001b[1m119/120\u001b[0m \u001b[32m━━━━━━━━━━━━━━━━━━━\u001b[0m\u001b[37m━\u001b[0m \u001b[1m0s\u001b[0m 12ms/step - Precision: 0.7457 - Recall: 0.7464 - accuracy: 0.7449 - loss: 1.6816\n",
            "Epoch 1: val_loss improved from inf to 1.48760, saving model to weights2.keras\n",
            "\u001b[1m120/120\u001b[0m \u001b[32m━━━━━━━━━━━━━━━━━━━━\u001b[0m\u001b[37m\u001b[0m \u001b[1m11s\u001b[0m 29ms/step - Precision: 0.7461 - Recall: 0.7468 - accuracy: 0.7454 - loss: 1.6775 - val_Precision: 0.5076 - val_Recall: 1.0000 - val_accuracy: 0.5076 - val_loss: 1.4876\n",
            "Epoch 2/10\n",
            "\u001b[1m119/120\u001b[0m \u001b[32m━━━━━━━━━━━━━━━━━━━\u001b[0m\u001b[37m━\u001b[0m \u001b[1m0s\u001b[0m 12ms/step - Precision: 0.7990 - Recall: 0.7855 - accuracy: 0.7932 - loss: 0.9673\n",
            "Epoch 2: val_loss improved from 1.48760 to 1.24961, saving model to weights2.keras\n",
            "\u001b[1m120/120\u001b[0m \u001b[32m━━━━━━━━━━━━━━━━━━━━\u001b[0m\u001b[37m\u001b[0m \u001b[1m2s\u001b[0m 16ms/step - Precision: 0.7991 - Recall: 0.7856 - accuracy: 0.7933 - loss: 0.9658 - val_Precision: 0.5076 - val_Recall: 1.0000 - val_accuracy: 0.5076 - val_loss: 1.2496\n",
            "Epoch 3/10\n",
            "\u001b[1m117/120\u001b[0m \u001b[32m━━━━━━━━━━━━━━━━━━━\u001b[0m\u001b[37m━\u001b[0m \u001b[1m0s\u001b[0m 13ms/step - Precision: 0.8093 - Recall: 0.7985 - accuracy: 0.8044 - loss: 0.6878\n",
            "Epoch 3: val_loss improved from 1.24961 to 1.03327, saving model to weights2.keras\n",
            "\u001b[1m120/120\u001b[0m \u001b[32m━━━━━━━━━━━━━━━━━━━━\u001b[0m\u001b[37m\u001b[0m \u001b[1m2s\u001b[0m 15ms/step - Precision: 0.8094 - Recall: 0.7987 - accuracy: 0.8047 - loss: 0.6862 - val_Precision: 0.5082 - val_Recall: 1.0000 - val_accuracy: 0.5089 - val_loss: 1.0333\n",
            "Epoch 4/10\n",
            "\u001b[1m120/120\u001b[0m \u001b[32m━━━━━━━━━━━━━━━━━━━━\u001b[0m\u001b[37m\u001b[0m \u001b[1m0s\u001b[0m 11ms/step - Precision: 0.8226 - Recall: 0.8112 - accuracy: 0.8175 - loss: 0.5509\n",
            "Epoch 4: val_loss improved from 1.03327 to 1.01551, saving model to weights2.keras\n",
            "\u001b[1m120/120\u001b[0m \u001b[32m━━━━━━━━━━━━━━━━━━━━\u001b[0m\u001b[37m\u001b[0m \u001b[1m2s\u001b[0m 13ms/step - Precision: 0.8226 - Recall: 0.8112 - accuracy: 0.8175 - loss: 0.5506 - val_Precision: 0.5181 - val_Recall: 0.9995 - val_accuracy: 0.5279 - val_loss: 1.0155\n",
            "Epoch 5/10\n",
            "\u001b[1m119/120\u001b[0m \u001b[32m━━━━━━━━━━━━━━━━━━━\u001b[0m\u001b[37m━\u001b[0m \u001b[1m0s\u001b[0m 12ms/step - Precision: 0.8213 - Recall: 0.8127 - accuracy: 0.8172 - loss: 0.4833\n",
            "Epoch 5: val_loss did not improve from 1.01551\n",
            "\u001b[1m120/120\u001b[0m \u001b[32m━━━━━━━━━━━━━━━━━━━━\u001b[0m\u001b[37m\u001b[0m \u001b[1m2s\u001b[0m 13ms/step - Precision: 0.8214 - Recall: 0.8127 - accuracy: 0.8173 - loss: 0.4830 - val_Precision: 0.7727 - val_Recall: 0.0087 - val_accuracy: 0.4956 - val_loss: 1.5335\n",
            "Epoch 6/10\n",
            "\u001b[1m119/120\u001b[0m \u001b[32m━━━━━━━━━━━━━━━━━━━\u001b[0m\u001b[37m━\u001b[0m \u001b[1m0s\u001b[0m 12ms/step - Precision: 0.8288 - Recall: 0.8093 - accuracy: 0.8205 - loss: 0.4511\n",
            "Epoch 6: val_loss improved from 1.01551 to 0.54659, saving model to weights2.keras\n",
            "\u001b[1m120/120\u001b[0m \u001b[32m━━━━━━━━━━━━━━━━━━━━\u001b[0m\u001b[37m\u001b[0m \u001b[1m2s\u001b[0m 13ms/step - Precision: 0.8288 - Recall: 0.8094 - accuracy: 0.8205 - loss: 0.4509 - val_Precision: 0.9002 - val_Recall: 0.5829 - val_accuracy: 0.7555 - val_loss: 0.5466\n",
            "Epoch 7/10\n",
            "\u001b[1m117/120\u001b[0m \u001b[32m━━━━━━━━━━━━━━━━━━━\u001b[0m\u001b[37m━\u001b[0m \u001b[1m0s\u001b[0m 12ms/step - Precision: 0.8279 - Recall: 0.8187 - accuracy: 0.8236 - loss: 0.4300\n",
            "Epoch 7: val_loss improved from 0.54659 to 0.43355, saving model to weights2.keras\n",
            "\u001b[1m120/120\u001b[0m \u001b[32m━━━━━━━━━━━━━━━━━━━━\u001b[0m\u001b[37m\u001b[0m \u001b[1m3s\u001b[0m 13ms/step - Precision: 0.8281 - Recall: 0.8189 - accuracy: 0.8238 - loss: 0.4297 - val_Precision: 0.8129 - val_Recall: 0.8384 - val_accuracy: 0.8201 - val_loss: 0.4335\n",
            "Epoch 8/10\n",
            "\u001b[1m118/120\u001b[0m \u001b[32m━━━━━━━━━━━━━━━━━━━\u001b[0m\u001b[37m━\u001b[0m \u001b[1m0s\u001b[0m 13ms/step - Precision: 0.8337 - Recall: 0.8201 - accuracy: 0.8277 - loss: 0.4207\n",
            "Epoch 8: val_loss did not improve from 0.43355\n",
            "\u001b[1m120/120\u001b[0m \u001b[32m━━━━━━━━━━━━━━━━━━━━\u001b[0m\u001b[37m\u001b[0m \u001b[1m3s\u001b[0m 14ms/step - Precision: 0.8338 - Recall: 0.8203 - accuracy: 0.8279 - loss: 0.4205 - val_Precision: 0.7396 - val_Recall: 0.8671 - val_accuracy: 0.7776 - val_loss: 0.4898\n",
            "Epoch 9/10\n",
            "\u001b[1m120/120\u001b[0m \u001b[32m━━━━━━━━━━━━━━━━━━━━\u001b[0m\u001b[37m\u001b[0m \u001b[1m0s\u001b[0m 13ms/step - Precision: 0.8327 - Recall: 0.8240 - accuracy: 0.8286 - loss: 0.4117\n",
            "Epoch 9: val_loss did not improve from 0.43355\n",
            "\u001b[1m120/120\u001b[0m \u001b[32m━━━━━━━━━━━━━━━━━━━━\u001b[0m\u001b[37m\u001b[0m \u001b[1m2s\u001b[0m 14ms/step - Precision: 0.8327 - Recall: 0.8241 - accuracy: 0.8286 - loss: 0.4117 - val_Precision: 0.6348 - val_Recall: 0.9651 - val_accuracy: 0.7005 - val_loss: 0.5583\n",
            "Epoch 10/10\n",
            "\u001b[1m120/120\u001b[0m \u001b[32m━━━━━━━━━━━━━━━━━━━━\u001b[0m\u001b[37m\u001b[0m \u001b[1m0s\u001b[0m 12ms/step - Precision: 0.8331 - Recall: 0.8256 - accuracy: 0.8295 - loss: 0.4085\n",
            "Epoch 10: val_loss did not improve from 0.43355\n",
            "\u001b[1m120/120\u001b[0m \u001b[32m━━━━━━━━━━━━━━━━━━━━\u001b[0m\u001b[37m\u001b[0m \u001b[1m2s\u001b[0m 13ms/step - Precision: 0.8331 - Recall: 0.8256 - accuracy: 0.8296 - loss: 0.4085 - val_Precision: 0.7251 - val_Recall: 0.8907 - val_accuracy: 0.7732 - val_loss: 0.4927\n",
            "\u001b[1m150/150\u001b[0m \u001b[32m━━━━━━━━━━━━━━━━━━━━\u001b[0m\u001b[37m\u001b[0m \u001b[1m2s\u001b[0m 3ms/step - Precision: 0.8066 - Recall: 0.8385 - accuracy: 0.8207 - loss: 0.4387\n",
            "Loss on test set: 0.43281930685043335 Accuracy on test set: 0.8218749761581421\n",
            "\u001b[1m150/150\u001b[0m \u001b[32m━━━━━━━━━━━━━━━━━━━━\u001b[0m\u001b[37m\u001b[0m \u001b[1m1s\u001b[0m 2ms/step\n",
            "Test accuracy: 0.821875\n",
            "Precision: 0.8221870461281537\n",
            "Recall: 0.8218154630299489\n",
            "f1_score: 0.8218109555782614\n",
            "\n",
            "Confusion matrix:\n",
            "[[1927  464]\n",
            " [ 391 2018]]\n"
          ]
        }
      ]
    }
  ],
  "metadata": {
    "accelerator": "GPU",
    "colab": {
      "gpuType": "T4",
      "provenance": []
    },
    "kernelspec": {
      "display_name": "Python 3",
      "name": "python3"
    },
    "language_info": {
      "name": "python"
    }
  },
  "nbformat": 4,
  "nbformat_minor": 0
}